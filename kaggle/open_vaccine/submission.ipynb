{
 "cells": [
  {
   "cell_type": "markdown",
   "metadata": {
    "tags": []
   },
   "source": [
    "# OpenVaccine: COVID-19 mRNA Vaccine Degradation Prediction\n",
    "\n",
    "In this [Kaggle competition](https://www.kaggle.com/c/stanford-covid-vaccine/overview) we try to develop models and design rules for RNA degradation. As the overview of the competition states:\n",
    "\n",
    ">mRNA vaccines have taken the lead as the fastest vaccine candidates for COVID-19, but currently, they face key potential limitations. One of the biggest challenges right now is how to design super stable messenger RNA molecules (mRNA). Conventional vaccines (like your seasonal flu shots) are packaged in disposable syringes and shipped under refrigeration around the world, but that is not currently possible for mRNA vaccines.\n",
    ">\n",
    ">Researchers have observed that RNA molecules have the tendency to spontaneously degrade. This is a serious limitation--a single cut can render the mRNA vaccine useless. Currently, little is known on the details of where in the backbone of a given RNA is most prone to being affected. Without this knowledge, current mRNA vaccines against COVID-19 must be prepared and shipped under intense refrigeration, and are unlikely to reach more than a tiny fraction of human beings on the planet unless they can be stabilized.\n",
    "\n",
    "<img src=\"images/banner.png\" width=\"1000\" style=\"margin-left: auto; margin-right: auto;\"> \n",
    "\n",
    "The model should predict likely degradation rates at each base of an RNA molecule. The training data set is comprised of over 3000 RNA molecules and their degradation rates at each position."
   ]
  },
  {
   "cell_type": "markdown",
   "metadata": {
    "tags": []
   },
   "source": [
    "# Install necessary packages\n",
    "\n",
    "We can install the necessary package by either running `pip install --user <package_name>` or include everything in a `requirements.txt` file and run `pip install --user -r requirements.txt`. Since we only need one extra package here we can use the former command.\n",
    "\n",
    "> NOTE: Do not forget to use the `--user` argument. It is necessary if you want to use Kale to transform this notebook into a Kubeflow pipeline"
   ]
  },
  {
   "cell_type": "code",
   "execution_count": null,
   "metadata": {
    "tags": []
   },
   "outputs": [],
   "source": [
    "# !pip install --user pandas"
   ]
  },
  {
   "cell_type": "markdown",
   "metadata": {
    "tags": []
   },
   "source": [
    "# Imports\n",
    "\n",
    "In this section we import the packages we need for this example. Make it a habbit to gather your imports in a single place. It will make your life easier if you are going to transform this notebook into a Kubeflow pipeline using Kale."
   ]
  },
  {
   "cell_type": "code",
   "execution_count": null,
   "metadata": {
    "tags": []
   },
   "outputs": [],
   "source": [
    "import numpy as np\n",
    "import pandas as pd\n",
    "import tensorflow as tf\n",
    "\n",
    "from tensorflow.keras.preprocessing.text import Tokenizer"
   ]
  },
  {
   "cell_type": "markdown",
   "metadata": {
    "tags": []
   },
   "source": [
    "# Project hyper-parameters\n",
    "\n",
    "In this cell, we define the different hyper-parameters. Defining them in one place makes it easier to experiment with their values and also facilitates the execution of HP tuning experiments using Kale and Katib."
   ]
  },
  {
   "cell_type": "code",
   "execution_count": null,
   "metadata": {
    "tags": [
     "pipeline-parameters"
    ]
   },
   "outputs": [],
   "source": [
    "# Hyper-parameters\n",
    "LR = 1e-3\n",
    "EPOCHS = 100\n",
    "BATCH_SIZE = 64\n",
    "EMBED_DIM = 100\n",
    "HIDDEN_DIM = 128\n",
    "DROPOUT = .5\n",
    "SP_DROPOUT = .3\n",
    "TRAIN_SEQUENCE_LENGTH = 107"
   ]
  },
  {
   "cell_type": "markdown",
   "metadata": {
    "tags": []
   },
   "source": [
    "Set random seed for reproducibility."
   ]
  },
  {
   "cell_type": "code",
   "execution_count": null,
   "metadata": {},
   "outputs": [],
   "source": [
    "tf.random.set_seed(42)\n",
    "np.random.seed(42)"
   ]
  },
  {
   "cell_type": "markdown",
   "metadata": {
    "tags": []
   },
   "source": [
    "# Load and preprocess data\n",
    "\n",
    "In this section, we load and process the data set to get in a ready-to-use form by the model. First, let us load and analyze the data."
   ]
  },
  {
   "cell_type": "markdown",
   "metadata": {
    "tags": []
   },
   "source": [
    "## Load data"
   ]
  },
  {
   "cell_type": "markdown",
   "metadata": {
    "tags": []
   },
   "source": [
    "The data are in `json` format, thus, we use the handy `read_json` pandas method. There is one train data set and two test sets (one public and one private)."
   ]
  },
  {
   "cell_type": "code",
   "execution_count": null,
   "metadata": {
    "tags": []
   },
   "outputs": [],
   "source": [
    "train_df = pd.read_json(\"data/train.json\", lines=True)\n",
    "test_df = pd.read_json(\"data/test.json\", lines=True)"
   ]
  },
  {
   "cell_type": "markdown",
   "metadata": {
    "tags": []
   },
   "source": [
    "We also load the `sample_submission.csv` file, which will prove handy when we will be creating our submission to the competition."
   ]
  },
  {
   "cell_type": "code",
   "execution_count": null,
   "metadata": {
    "tags": []
   },
   "outputs": [],
   "source": [
    "sample_submission_df = pd.read_csv(\"data/sample_submission.csv\")"
   ]
  },
  {
   "cell_type": "markdown",
   "metadata": {
    "tags": []
   },
   "source": [
    "Let us now explore the data, their dimensions and what each column mean. To this end, we use the pandas `head` method to visualize a small sample (five rows by default) of our data set."
   ]
  },
  {
   "cell_type": "code",
   "execution_count": null,
   "metadata": {
    "tags": []
   },
   "outputs": [],
   "source": [
    "train_df.head()"
   ]
  },
  {
   "cell_type": "markdown",
   "metadata": {
    "tags": []
   },
   "source": [
    "We see a lot of strange entries, so, let us try to see what they are:\n",
    "\n",
    "* `sequence`: An 107 characters long string in Train and Public Test (130 in Private Test), which describes the RNA sequence, a combination of A, G, U, and C for each sample.\n",
    "* `structure`: An 107 characters long string in Train and Public Test (130 in Private Test), which is a compination of `(`, `)`, and `.` characters that describe whether a base is estimated to be paired or unpaired. Paired bases are denoted by opening and closing parentheses (e.g. (....) means that base 0 is paired to base 5, and bases 1-4 are unpaired).\n",
    "* `predicted_loop_type`: An 107 characters long string, which describes the structural context (also referred to as 'loop type') of each character in sequence. Loop types assigned by bpRNA from Vienna RNAfold 2 structure. From the bpRNA_documentation: `S`: paired \"Stem\" `M`: Multiloop `I`: Internal loop `B`: Bulge `H`: Hairpin loop `E`: dangling End `X`: eXternal loop.\n",
    "\n",
    "Then, we have `signal_to_noise`, which is quality control feature. It records the measurements relative to their errors; the higher value the more confident measurements are.\n",
    "\n",
    "The `*_error_*` columns calculate the errors in experimental values obtained in corresponding `reactivity` and `deg_*` columns.\n",
    "\n",
    "The last five columns (i.e., `recreativity` and `deg_*`) are out depended variables, our targets. Thus, for every base in the molecule we should predict five different values.\n",
    "\n",
    "The `bpps` folder stands for Base Pairing Probabilities. In contains numpy arrays that correspond to the Base Pairing Probability Matrix (BPPM). The `bpps` are pre-calculated for each sequence. They are matrices of base pair probabilities. Biophysically speaking, this matrix gives the probability that each pair of nucleotides, in the RNA, forms a base pair (given a particular model of RNA folding). Thus, let us provide some helper functions to load these arrays."
   ]
  },
  {
   "cell_type": "code",
   "execution_count": null,
   "metadata": {},
   "outputs": [],
   "source": [
    "def read_bpps_sum(df):\n",
    "    bpps_arr = []\n",
    "    for mol_id in df.id.to_list():\n",
    "        bpps_arr.append(np.load(f\"data/bpps/{mol_id}.npy\").max(axis=1))\n",
    "    return bpps_arr\n",
    "\n",
    "\n",
    "def read_bpps_max(df):\n",
    "    bpps_arr = []\n",
    "    for mol_id in df.id.to_list():\n",
    "        bpps_arr.append(np.load(f\"data/bpps/{mol_id}.npy\").sum(axis=1))\n",
    "    return bpps_arr\n",
    "\n",
    "\n",
    "def read_bpps_nb(df):\n",
    "    # normalized non-zero number\n",
    "    # from https://www.kaggle.com/symyksr/openvaccine-deepergcn \n",
    "    bpps_nb_mean = 0.077522 # mean of bpps_nb across all training data\n",
    "    bpps_nb_std = 0.08914   # std of bpps_nb across all training data\n",
    "    bpps_arr = []\n",
    "    for mol_id in df.id.to_list():\n",
    "        bpps = np.load(f\"data/bpps/{mol_id}.npy\")\n",
    "        bpps_nb = (bpps > 0).sum(axis=0) / bpps.shape[0]\n",
    "        bpps_nb = (bpps_nb - bpps_nb_mean) / bpps_nb_std\n",
    "        bpps_arr.append(bpps_nb)\n",
    "    return bpps_arr"
   ]
  },
  {
   "cell_type": "markdown",
   "metadata": {
    "tags": []
   },
   "source": [
    "These are the main columns we care about. For more details, visit the competition [info](https://www.kaggle.com/c/stanford-covid-vaccine/data)."
   ]
  },
  {
   "cell_type": "markdown",
   "metadata": {
    "tags": []
   },
   "source": [
    "## Preprocess data"
   ]
  },
  {
   "cell_type": "markdown",
   "metadata": {
    "tags": []
   },
   "source": [
    "We are now ready to preprocess the data set. First, we define the symbols that encode certain features (e.g. the base symbol or the structure), the features and the target variables."
   ]
  },
  {
   "cell_type": "code",
   "execution_count": null,
   "metadata": {
    "tags": []
   },
   "outputs": [],
   "source": [
    "symbols = \"().ACGUBEHIMSX\"\n",
    "feat_cols = ['sequence', 'structure', 'predicted_loop_type']\n",
    "pred_cols = ['reactivity', 'deg_Mg_pH10', 'deg_Mg_50C', 'deg_pH10', 'deg_50C']\n",
    "error_cols = ['reactivity_error', 'deg_error_Mg_pH10', 'deg_error_Mg_50C', 'deg_error_pH10', 'deg_error_50C']"
   ]
  },
  {
   "cell_type": "markdown",
   "metadata": {
    "tags": []
   },
   "source": [
    "In order to encode values like strings or characters and feed them to the neural network, we need to tokenize them. The `Tokenizer` class will assign a number to each character."
   ]
  },
  {
   "cell_type": "code",
   "execution_count": null,
   "metadata": {},
   "outputs": [],
   "source": [
    "tokenizer = Tokenizer(char_level=True, filters=\"\")\n",
    "tokenizer.fit_on_texts(symbols)"
   ]
  },
  {
   "cell_type": "markdown",
   "metadata": {
    "tags": []
   },
   "source": [
    "Moreover, the tokenizer keeps a dictionary, `word_index`, from which we can get the number of elements in our vocabulary. In this case, we only have a few elements, but if we has passed a whole book, that function would be handy.\n",
    "\n",
    "> NOTE: We should add `1` to the length of the `word_index` dictionary to get the correct number of elements."
   ]
  },
  {
   "cell_type": "code",
   "execution_count": null,
   "metadata": {},
   "outputs": [],
   "source": [
    "# get the number of elements in the vocabulary\n",
    "vocab_size = len(tokenizer.word_index) + 1"
   ]
  },
  {
   "cell_type": "markdown",
   "metadata": {
    "tags": []
   },
   "source": [
    "We are now ready to process our features. First, we transform each character sequence (i.e., `sequence`, `structure`, `predicted_loop_type`) into number sequences and concatenate them together. Then, we add the previously extracted `bpps_*` features on top. The resulting shape should be `(num_examples, 107, 6)`."
   ]
  },
  {
   "cell_type": "code",
   "execution_count": null,
   "metadata": {},
   "outputs": [],
   "source": [
    "def process_features(df):\n",
    "    df = df.copy()\n",
    "    \n",
    "    # get the features\n",
    "    sequence_sentences = np.array(df[\"sequence\"].values.tolist())\n",
    "    structure_sentences = np.array(df[\"structure\"].values.tolist())\n",
    "    loop_sentences = np.array(df[\"predicted_loop_type\"].values.tolist())\n",
    "    \n",
    "    # transform character sequences into number sequences\n",
    "    sequence_tokens = tokenizer.texts_to_sequences(sequence_sentences)\n",
    "    structure_tokens = tokenizer.texts_to_sequences(structure_sentences)\n",
    "    loop_tokens = tokenizer.texts_to_sequences(loop_sentences)\n",
    "    \n",
    "    # concatenate the tokenized sequences\n",
    "    sequences = np.stack((sequence_tokens, structure_tokens, loop_tokens), axis=1)\n",
    "    sequences =  np.transpose(sequences, (0, 2, 1))\n",
    "    \n",
    "    # add the `bpps` features on top\n",
    "    bpps_sum = np.array(df['bpps_sum'].to_list())[:,:,np.newaxis]\n",
    "    bpps_max = np.array(df['bpps_max'].to_list())[:,:,np.newaxis]\n",
    "    bpps_nb = np.array(df['bpps_nb'].to_list())[:,:,np.newaxis]\n",
    "    \n",
    "    return np.concatenate([sequences, bpps_sum, bpps_max, bpps_nb], 2)"
   ]
  },
  {
   "cell_type": "markdown",
   "metadata": {
    "tags": []
   },
   "source": [
    "In the same way we process the labels. We should just extract them and transform them into the correct shape. The resulting shape should be `(num_examples, 68, 5)`."
   ]
  },
  {
   "cell_type": "code",
   "execution_count": null,
   "metadata": {},
   "outputs": [],
   "source": [
    "def process_labels(df):\n",
    "    df = df.copy()\n",
    "    \n",
    "    labels = np.array(df[pred_cols].values.tolist())\n",
    "    labels = np.transpose(labels, (0, 2, 1))\n",
    "    \n",
    "    return labels"
   ]
  },
  {
   "cell_type": "markdown",
   "metadata": {
    "tags": []
   },
   "source": [
    "Before running our dataset from the prerpocess function, we need to add the extra info to the dataframe. Also, we need to separate the public and private test dataframes."
   ]
  },
  {
   "cell_type": "code",
   "execution_count": null,
   "metadata": {},
   "outputs": [],
   "source": [
    "train_df['bpps_sum'] = read_bpps_sum(train_df)\n",
    "train_df['bpps_max'] = read_bpps_max(train_df)\n",
    "train_df['bpps_nb'] = read_bpps_nb(train_df)\n",
    "\n",
    "test_df['bpps_sum'] = read_bpps_sum(test_df)\n",
    "test_df['bpps_max'] = read_bpps_max(test_df)\n",
    "test_df['bpps_nb'] = read_bpps_nb(test_df)"
   ]
  },
  {
   "cell_type": "code",
   "execution_count": null,
   "metadata": {},
   "outputs": [],
   "source": [
    "public_test_df = test_df.query(\"seq_length == 107\")\n",
    "private_test_df = test_df.query(\"seq_length == 130\")"
   ]
  },
  {
   "cell_type": "markdown",
   "metadata": {
    "tags": []
   },
   "source": [
    "We are now ready to process the data set and make the features ready to be consumed by the model."
   ]
  },
  {
   "cell_type": "code",
   "execution_count": null,
   "metadata": {
    "tags": []
   },
   "outputs": [],
   "source": [
    "x_train = process_features(train_df)\n",
    "y_train = process_labels(train_df)"
   ]
  },
  {
   "cell_type": "markdown",
   "metadata": {
    "tags": []
   },
   "source": [
    "# Define and train the model"
   ]
  },
  {
   "cell_type": "code",
   "execution_count": null,
   "metadata": {},
   "outputs": [],
   "source": [
    "def gru_layer(hidden_dim, dropout):\n",
    "    return tf.keras.layers.Bidirectional(\n",
    "         tf.keras.layers.GRU(hidden_dim, dropout=dropout, return_sequences=True, kernel_initializer = 'orthogonal')\n",
    "    )"
   ]
  },
  {
   "cell_type": "code",
   "execution_count": null,
   "metadata": {
    "tags": []
   },
   "outputs": [],
   "source": [
    "def lstm_layer(hidden_dim, dropout):\n",
    "    return tf.keras.layers.Bidirectional(\n",
    "        tf.keras.layers.LSTM(hidden_dim, dropout=dropout, return_sequences=True, kernel_initializer = 'orthogonal')\n",
    "    )"
   ]
  },
  {
   "cell_type": "code",
   "execution_count": null,
   "metadata": {
    "tags": []
   },
   "outputs": [],
   "source": [
    "def build_model(vocab_size, seq_length=TRAIN_SEQUENCE_LENGTH, pred_len=68,\n",
    "                embed_dim=EMBED_DIM,\n",
    "                hidden_dim=HIDDEN_DIM, dropout=DROPOUT, sp_dropout=SP_DROPOUT):\n",
    "    inputs = tf.keras.layers.Input(shape=(seq_length, 6))\n",
    "    \n",
    "    # split categorical and numerical features and concatenate them later.\n",
    "    cat_features = inputs[:, :, :3]\n",
    "    num_features = inputs[:, :, 3:]\n",
    "\n",
    "    embed = tf.keras.layers.Embedding(input_dim=vocab_size, output_dim=embed_dim)(cat_features)\n",
    "    \n",
    "    reshaped = tf.reshape(\n",
    "        embed, shape=(-1, embed.shape[1],  embed.shape[2] * embed.shape[3])\n",
    "    )\n",
    "    \n",
    "    concatenated = tf.keras.layers.concatenate([reshaped, num_features], axis=2)\n",
    "    \n",
    "    hidden = tf.keras.layers.SpatialDropout1D(sp_dropout)(concatenated)\n",
    "    \n",
    "    hidden = gru_layer(hidden_dim, dropout)(hidden)\n",
    "    hidden = lstm_layer(hidden_dim, dropout)(hidden)\n",
    "    \n",
    "    truncated = hidden[:, :pred_len]\n",
    "    \n",
    "    out = tf.keras.layers.Dense(5, activation='linear')(truncated)\n",
    "    \n",
    "    model = tf.keras.Model(inputs=inputs, outputs=out)\n",
    "    \n",
    "    return model"
   ]
  },
  {
   "cell_type": "code",
   "execution_count": null,
   "metadata": {
    "tags": []
   },
   "outputs": [],
   "source": [
    "model = build_model(vocab_size)"
   ]
  },
  {
   "cell_type": "code",
   "execution_count": null,
   "metadata": {
    "tags": []
   },
   "outputs": [],
   "source": [
    "model.summary()"
   ]
  },
  {
   "cell_type": "code",
   "execution_count": null,
   "metadata": {},
   "outputs": [],
   "source": [
    "class MeanColumnwiseRMSE(tf.keras.losses.Loss):\n",
    "    def __init__(self, name='MeanColumnwiseRMSE'):\n",
    "        super().__init__(name=name)\n",
    "\n",
    "    def call(self, y_true, y_pred):\n",
    "        colwise_mse = tf.reduce_mean(tf.square(y_true - y_pred), axis=1)\n",
    "        return tf.reduce_mean(tf.sqrt(colwise_mse), axis=1)"
   ]
  },
  {
   "cell_type": "code",
   "execution_count": null,
   "metadata": {
    "tags": []
   },
   "outputs": [],
   "source": [
    "model.compile(tf.optimizers.Adam(learning_rate=LR), loss=MeanColumnwiseRMSE())"
   ]
  },
  {
   "cell_type": "code",
   "execution_count": null,
   "metadata": {
    "tags": []
   },
   "outputs": [],
   "source": [
    "history = model.fit(x_train, y_train, validation_split=.1,\n",
    "          batch_size=BATCH_SIZE, epochs=EPOCHS, verbose=2,\n",
    "          callbacks=[\n",
    "              tf.keras.callbacks.ModelCheckpoint(\"model_v0.3.0.h5\", save_best_only=True)\n",
    "          ])"
   ]
  },
  {
   "cell_type": "code",
   "execution_count": null,
   "metadata": {
    "tags": []
   },
   "outputs": [],
   "source": [
    "model.save('saved_model_v0.3.0')"
   ]
  },
  {
   "cell_type": "markdown",
   "metadata": {
    "tags": []
   },
   "source": [
    "## Evaluate the model"
   ]
  },
  {
   "cell_type": "code",
   "execution_count": null,
   "metadata": {
    "tags": []
   },
   "outputs": [],
   "source": [
    "public_test_data = process_features(public_test_df)\n",
    "private_test_data = process_features(private_test_df)"
   ]
  },
  {
   "cell_type": "code",
   "execution_count": null,
   "metadata": {
    "tags": []
   },
   "outputs": [],
   "source": [
    "model_public = build_model(vocab_size, seq_length=107, pred_len=107)\n",
    "model_private = build_model(vocab_size, seq_length=130, pred_len=130)\n",
    "\n",
    "model_public.load_weights(\"model_v0.3.0.h5\")\n",
    "model_private.load_weights(\"model_v0.3.0.h5\")"
   ]
  },
  {
   "cell_type": "code",
   "execution_count": null,
   "metadata": {
    "tags": [
     "block:model_public"
    ]
   },
   "outputs": [],
   "source": [
    "public_preds = model_public.predict(public_test_data)\n",
    "private_preds = model_private.predict(private_test_data)"
   ]
  },
  {
   "cell_type": "markdown",
   "metadata": {
    "tags": []
   },
   "source": [
    "# Submission"
   ]
  },
  {
   "cell_type": "code",
   "execution_count": null,
   "metadata": {
    "tags": []
   },
   "outputs": [],
   "source": [
    "preds_ls = []\n",
    "\n",
    "for df, preds in [(public_test_df, public_preds), (private_test_df, private_preds)]:\n",
    "    for i, uid in enumerate(df.id):\n",
    "        single_pred = preds[i]\n",
    "\n",
    "        single_df = pd.DataFrame(single_pred, columns=pred_cols)\n",
    "        single_df['id_seqpos'] = [f'{uid}_{x}' for x in range(single_df.shape[0])]\n",
    "\n",
    "        preds_ls.append(single_df)\n",
    "\n",
    "preds_df = pd.concat(preds_ls)\n",
    "preds_df.head()"
   ]
  },
  {
   "cell_type": "code",
   "execution_count": null,
   "metadata": {
    "tags": []
   },
   "outputs": [],
   "source": [
    "submission = sample_submission_df[['id_seqpos']].merge(preds_df, on=['id_seqpos'])\n",
    "submission.to_csv('submission.csv', index=False)"
   ]
  }
 ],
 "metadata": {
  "kernelspec": {
   "display_name": "Python 3",
   "language": "python",
   "name": "python3"
  },
  "kubeflow_notebook": {
   "autosnapshot": true,
   "docker_image": "gcr.io/arrikto-playground/jupyter-kale:beb3b7f-03892c7",
   "experiment": {
    "id": "",
    "name": ""
   },
   "experiment_name": "",
   "katib_metadata": {
    "algorithm": {
     "algorithmName": "grid"
    },
    "maxFailedTrialCount": 3,
    "maxTrialCount": 12,
    "objective": {
     "objectiveMetricName": "",
     "type": "minimize"
    },
    "parallelTrialCount": 3,
    "parameters": []
   },
   "katib_run": false,
   "pipeline_description": "",
   "pipeline_name": "",
   "snapshot_volumes": true,
   "steps_defaults": [
    "label:access-ml-pipeline:true",
    "label:access-rok:true"
   ],
   "volumes": [
    {
     "annotations": [],
     "mount_point": "/home/jovyan",
     "name": "workspace-examples-server-l7q82ak70",
     "size": 10,
     "size_type": "Gi",
     "snapshot": false,
     "type": "clone"
    }
   ]
  },
  "language_info": {
   "codemirror_mode": {
    "name": "ipython",
    "version": 3
   },
   "file_extension": ".py",
   "mimetype": "text/x-python",
   "name": "python",
   "nbconvert_exporter": "python",
   "pygments_lexer": "ipython3",
   "version": "3.6.9"
  }
 },
 "nbformat": 4,
 "nbformat_minor": 4
}
