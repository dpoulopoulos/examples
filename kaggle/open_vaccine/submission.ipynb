{
 "cells": [
  {
   "cell_type": "markdown",
   "metadata": {
    "tags": []
   },
   "source": [
    "# Install necessary packages"
   ]
  },
  {
   "cell_type": "code",
   "execution_count": null,
   "metadata": {
    "tags": []
   },
   "outputs": [],
   "source": [
    "# !pip install --user pandas"
   ]
  },
  {
   "cell_type": "markdown",
   "metadata": {
    "tags": []
   },
   "source": [
    "# Imports"
   ]
  },
  {
   "cell_type": "code",
   "execution_count": 1,
   "metadata": {
    "tags": []
   },
   "outputs": [],
   "source": [
    "import numpy as np\n",
    "import pandas as pd\n",
    "import tensorflow as tf\n",
    "\n",
    "from tensorflow.keras.preprocessing.text import Tokenizer"
   ]
  },
  {
   "cell_type": "markdown",
   "metadata": {
    "tags": []
   },
   "source": [
    "# Project hyper-parameters"
   ]
  },
  {
   "cell_type": "code",
   "execution_count": 2,
   "metadata": {
    "tags": [
     "pipeline-parameters"
    ]
   },
   "outputs": [],
   "source": [
    "# Hyper-parameters\n",
    "LR = 1e-2\n",
    "EPOCHS = 200\n",
    "BATCH_SIZE = 256\n",
    "EMBED_DIM = 107\n",
    "N_HIDDEN_LAYERS = 3\n",
    "HIDDEN_DIM = 128\n",
    "DROPOUT = .5\n",
    "SP_DROPOUT = .2\n",
    "TRAIN_SEQUENCE_LENGTH = 107\n",
    "TEST_SEQUENCE_LENGTH = 103\n",
    "MODEL_VERSION = \"v0.1.3\""
   ]
  },
  {
   "cell_type": "markdown",
   "metadata": {
    "tags": []
   },
   "source": [
    "# Load and preprocess data"
   ]
  },
  {
   "cell_type": "markdown",
   "metadata": {
    "tags": []
   },
   "source": [
    "## Load data"
   ]
  },
  {
   "cell_type": "code",
   "execution_count": 3,
   "metadata": {
    "tags": []
   },
   "outputs": [],
   "source": [
    "train_df = pd.read_json(\"data/train.json\", lines=True)"
   ]
  },
  {
   "cell_type": "code",
   "execution_count": 4,
   "metadata": {
    "tags": []
   },
   "outputs": [],
   "source": [
    "test_df = pd.read_json(\"data/test.json\", lines=True)\n",
    "public_test_df = test_df.query(\"seq_length == 107\")\n",
    "private_test_df = test_df.query(\"seq_length == 130\")"
   ]
  },
  {
   "cell_type": "code",
   "execution_count": 5,
   "metadata": {
    "tags": []
   },
   "outputs": [],
   "source": [
    "sample_submission_df = pd.read_csv(\"data/sample_submission.csv\")"
   ]
  },
  {
   "cell_type": "markdown",
   "metadata": {
    "tags": []
   },
   "source": [
    "## Preprocess data"
   ]
  },
  {
   "cell_type": "code",
   "execution_count": 6,
   "metadata": {
    "tags": []
   },
   "outputs": [],
   "source": [
    "symbols = \"().ACGUBEHIMSX\"\n",
    "feat_cols = ['sequence', 'structure', 'predicted_loop_type']\n",
    "pred_cols = ['reactivity', 'deg_Mg_pH10', 'deg_Mg_50C', 'deg_pH10', 'deg_50C']"
   ]
  },
  {
   "cell_type": "code",
   "execution_count": 7,
   "metadata": {
    "tags": [
     "functions"
    ]
   },
   "outputs": [],
   "source": [
    "def process_features(df):\n",
    "    df = df.copy()\n",
    "    \n",
    "    sequence_sentences = np.array(df[\"sequence\"].values.tolist())\n",
    "    structure_sentences = np.array(df[\"structure\"].values.tolist())\n",
    "    loop_sentences = np.array(df[\"predicted_loop_type\"].values.tolist())\n",
    "    \n",
    "    tokenizer = Tokenizer(char_level=True, filters=\"\")\n",
    "    tokenizer.fit_on_texts(symbols)\n",
    "    \n",
    "    sequence_tokens = tokenizer.texts_to_sequences(sequence_sentences)\n",
    "    structure_tokens = tokenizer.texts_to_sequences(structure_sentences)\n",
    "    loop_tokens = tokenizer.texts_to_sequences(loop_sentences)\n",
    "    \n",
    "    sequences = np.stack((sequence_tokens, structure_tokens, loop_tokens), axis=1)\n",
    "    \n",
    "    return np.transpose(sequences, (0, 2, 1)), len(tokenizer.word_index)+1\n",
    "\n",
    "def process_labels(df):\n",
    "    df = df.copy()\n",
    "    \n",
    "    labels = np.array(df[pred_cols].values.tolist())\n",
    "    labels = np.transpose(labels, (0, 2, 1))\n",
    "    \n",
    "    return labels"
   ]
  },
  {
   "cell_type": "code",
   "execution_count": 8,
   "metadata": {
    "tags": []
   },
   "outputs": [],
   "source": [
    "x_train, vocab_size = process_features(train_df)\n",
    "y_train = process_labels(train_df)"
   ]
  },
  {
   "cell_type": "markdown",
   "metadata": {
    "tags": []
   },
   "source": [
    "# Define and train the model"
   ]
  },
  {
   "cell_type": "code",
   "execution_count": 9,
   "metadata": {
    "tags": []
   },
   "outputs": [],
   "source": [
    "def lstm_layer(hidden_dim, dropout):\n",
    "    return tf.keras.layers.Bidirectional(\n",
    "        tf.keras.layers.LSTM(hidden_dim, dropout=dropout, return_sequences=True,)\n",
    "    )"
   ]
  },
  {
   "cell_type": "code",
   "execution_count": 10,
   "metadata": {
    "tags": []
   },
   "outputs": [],
   "source": [
    "def build_model(vocab_size, seq_length=TRAIN_SEQUENCE_LENGTH, pred_len=68,\n",
    "                embed_dim=EMBED_DIM,\n",
    "                n_hidden_layers=N_HIDDEN_LAYERS,\n",
    "                hidden_dim=HIDDEN_DIM, dropout=DROPOUT, sp_dropout=SP_DROPOUT):\n",
    "    inputs = tf.keras.layers.Input(shape=(seq_length, 3))\n",
    "\n",
    "    embed = tf.keras.layers.Embedding(input_dim=vocab_size, output_dim=embed_dim)(inputs)\n",
    "    \n",
    "    hidden = tf.reshape(\n",
    "        embed, shape=(-1, embed.shape[1],  embed.shape[2] * embed.shape[3])\n",
    "    )\n",
    "    \n",
    "    hidden = tf.keras.layers.SpatialDropout1D(sp_dropout)(hidden)\n",
    "    \n",
    "    for x in range(n_hidden_layers):\n",
    "        hidden = lstm_layer(hidden_dim, dropout)(hidden)\n",
    "    \n",
    "    truncated = hidden[:, :pred_len]\n",
    "    \n",
    "    out = tf.keras.layers.Dense(5, activation='linear')(truncated)\n",
    "    \n",
    "    model = tf.keras.Model(inputs=inputs, outputs=out)\n",
    "    \n",
    "    return model"
   ]
  },
  {
   "cell_type": "code",
   "execution_count": 11,
   "metadata": {
    "tags": []
   },
   "outputs": [],
   "source": [
    "model = build_model(vocab_size)"
   ]
  },
  {
   "cell_type": "code",
   "execution_count": 12,
   "metadata": {
    "tags": []
   },
   "outputs": [
    {
     "name": "stdout",
     "output_type": "stream",
     "text": [
      "Model: \"functional_1\"\n",
      "_________________________________________________________________\n",
      "Layer (type)                 Output Shape              Param #   \n",
      "=================================================================\n",
      "input_1 (InputLayer)         [(None, 107, 3)]          0         \n",
      "_________________________________________________________________\n",
      "embedding (Embedding)        (None, 107, 3, 107)       1605      \n",
      "_________________________________________________________________\n",
      "tf_op_layer_Reshape (TensorF [(None, 107, 321)]        0         \n",
      "_________________________________________________________________\n",
      "spatial_dropout1d (SpatialDr (None, 107, 321)          0         \n",
      "_________________________________________________________________\n",
      "bidirectional (Bidirectional (None, 107, 256)          460800    \n",
      "_________________________________________________________________\n",
      "bidirectional_1 (Bidirection (None, 107, 256)          394240    \n",
      "_________________________________________________________________\n",
      "bidirectional_2 (Bidirection (None, 107, 256)          394240    \n",
      "_________________________________________________________________\n",
      "tf_op_layer_strided_slice (T [(None, 68, 256)]         0         \n",
      "_________________________________________________________________\n",
      "dense (Dense)                (None, 68, 5)             1285      \n",
      "=================================================================\n",
      "Total params: 1,252,170\n",
      "Trainable params: 1,252,170\n",
      "Non-trainable params: 0\n",
      "_________________________________________________________________\n"
     ]
    }
   ],
   "source": [
    "model.summary()"
   ]
  },
  {
   "cell_type": "code",
   "execution_count": 13,
   "metadata": {},
   "outputs": [],
   "source": [
    "class MeanColumnwiseRMSE(tf.keras.losses.Loss):\n",
    "    def __init__(self, name='MeanColumnwiseRMSE'):\n",
    "        super().__init__(name=name)\n",
    "\n",
    "    def call(self, y_true, y_pred):\n",
    "        colwise_mse = tf.reduce_mean(tf.square(y_true - y_pred), axis=1)\n",
    "        return tf.reduce_mean(tf.sqrt(colwise_mse), axis=1)"
   ]
  },
  {
   "cell_type": "code",
   "execution_count": 14,
   "metadata": {
    "tags": []
   },
   "outputs": [],
   "source": [
    "model.compile(tf.optimizers.Adam(learning_rate=LR), loss=MeanColumnwiseRMSE())"
   ]
  },
  {
   "cell_type": "code",
   "execution_count": 15,
   "metadata": {
    "tags": []
   },
   "outputs": [
    {
     "name": "stdout",
     "output_type": "stream",
     "text": [
      "Epoch 1/200\n",
      "9/9 [==============================] - 3s 318ms/step - loss: 0.8736 - val_loss: 0.7255\n",
      "Epoch 2/200\n",
      "9/9 [==============================] - 1s 87ms/step - loss: 0.6097 - val_loss: 0.6355\n",
      "Epoch 3/200\n",
      "9/9 [==============================] - 1s 89ms/step - loss: 0.5505 - val_loss: 0.6087\n",
      "Epoch 4/200\n",
      "9/9 [==============================] - 1s 90ms/step - loss: 0.5262 - val_loss: 0.5883\n",
      "Epoch 5/200\n",
      "9/9 [==============================] - 1s 87ms/step - loss: 0.5115 - val_loss: 0.5789\n",
      "Epoch 6/200\n",
      "9/9 [==============================] - 1s 88ms/step - loss: 0.5015 - val_loss: 0.5784\n",
      "Epoch 7/200\n",
      "9/9 [==============================] - 1s 89ms/step - loss: 0.4935 - val_loss: 0.5656\n",
      "Epoch 8/200\n",
      "9/9 [==============================] - 1s 87ms/step - loss: 0.4860 - val_loss: 0.5600\n",
      "Epoch 9/200\n",
      "9/9 [==============================] - 1s 89ms/step - loss: 0.4801 - val_loss: 0.5539\n",
      "Epoch 10/200\n",
      "9/9 [==============================] - 1s 89ms/step - loss: 0.4755 - val_loss: 0.5505\n",
      "Epoch 11/200\n",
      "9/9 [==============================] - 1s 98ms/step - loss: 0.4727 - val_loss: 0.5486\n",
      "Epoch 12/200\n",
      "9/9 [==============================] - 1s 88ms/step - loss: 0.4667 - val_loss: 0.5418\n",
      "Epoch 13/200\n",
      "9/9 [==============================] - 1s 87ms/step - loss: 0.4618 - val_loss: 0.5388\n",
      "Epoch 14/200\n",
      "9/9 [==============================] - 1s 87ms/step - loss: 0.4585 - val_loss: 0.5334\n",
      "Epoch 15/200\n",
      "9/9 [==============================] - 1s 87ms/step - loss: 0.4546 - val_loss: 0.5298\n",
      "Epoch 16/200\n",
      "9/9 [==============================] - 1s 88ms/step - loss: 0.4520 - val_loss: 0.5280\n",
      "Epoch 17/200\n",
      "9/9 [==============================] - 1s 88ms/step - loss: 0.4495 - val_loss: 0.5242\n",
      "Epoch 18/200\n",
      "9/9 [==============================] - 1s 88ms/step - loss: 0.4452 - val_loss: 0.5182\n",
      "Epoch 19/200\n",
      "9/9 [==============================] - 1s 82ms/step - loss: 0.4415 - val_loss: 0.5185\n",
      "Epoch 20/200\n",
      "9/9 [==============================] - 1s 87ms/step - loss: 0.4402 - val_loss: 0.5116\n",
      "Epoch 21/200\n",
      "9/9 [==============================] - 1s 87ms/step - loss: 0.4357 - val_loss: 0.5076\n",
      "Epoch 22/200\n",
      "9/9 [==============================] - 1s 90ms/step - loss: 0.4326 - val_loss: 0.5069\n",
      "Epoch 23/200\n",
      "9/9 [==============================] - 1s 89ms/step - loss: 0.4298 - val_loss: 0.5021\n",
      "Epoch 24/200\n",
      "9/9 [==============================] - 1s 90ms/step - loss: 0.4267 - val_loss: 0.5018\n",
      "Epoch 25/200\n",
      "9/9 [==============================] - 1s 88ms/step - loss: 0.4239 - val_loss: 0.4965\n",
      "Epoch 26/200\n",
      "9/9 [==============================] - 1s 89ms/step - loss: 0.4197 - val_loss: 0.4962\n",
      "Epoch 27/200\n",
      "9/9 [==============================] - 1s 89ms/step - loss: 0.4180 - val_loss: 0.4920\n",
      "Epoch 28/200\n",
      "9/9 [==============================] - 1s 91ms/step - loss: 0.4150 - val_loss: 0.4890\n",
      "Epoch 29/200\n",
      "9/9 [==============================] - 1s 87ms/step - loss: 0.4125 - val_loss: 0.4884\n",
      "Epoch 30/200\n",
      "9/9 [==============================] - 1s 88ms/step - loss: 0.4103 - val_loss: 0.4841\n",
      "Epoch 31/200\n",
      "9/9 [==============================] - 1s 79ms/step - loss: 0.4089 - val_loss: 0.4883\n",
      "Epoch 32/200\n",
      "9/9 [==============================] - 1s 81ms/step - loss: 0.4077 - val_loss: 0.4848\n",
      "Epoch 33/200\n",
      "9/9 [==============================] - 1s 90ms/step - loss: 0.4065 - val_loss: 0.4808\n",
      "Epoch 34/200\n",
      "9/9 [==============================] - 1s 81ms/step - loss: 0.4037 - val_loss: 0.4824\n",
      "Epoch 35/200\n",
      "9/9 [==============================] - 1s 79ms/step - loss: 0.4016 - val_loss: 0.4816\n",
      "Epoch 36/200\n",
      "9/9 [==============================] - 1s 92ms/step - loss: 0.4006 - val_loss: 0.4793\n",
      "Epoch 37/200\n",
      "9/9 [==============================] - 1s 86ms/step - loss: 0.3991 - val_loss: 0.4787\n",
      "Epoch 38/200\n",
      "9/9 [==============================] - 1s 88ms/step - loss: 0.3986 - val_loss: 0.4769\n",
      "Epoch 39/200\n",
      "9/9 [==============================] - 1s 87ms/step - loss: 0.3958 - val_loss: 0.4759\n",
      "Epoch 40/200\n",
      "9/9 [==============================] - 1s 91ms/step - loss: 0.3947 - val_loss: 0.4736\n",
      "Epoch 41/200\n",
      "9/9 [==============================] - 1s 78ms/step - loss: 0.3931 - val_loss: 0.4786\n",
      "Epoch 42/200\n",
      "9/9 [==============================] - 1s 78ms/step - loss: 0.3925 - val_loss: 0.4744\n",
      "Epoch 43/200\n",
      "9/9 [==============================] - 1s 87ms/step - loss: 0.3913 - val_loss: 0.4728\n",
      "Epoch 44/200\n",
      "9/9 [==============================] - 1s 88ms/step - loss: 0.3895 - val_loss: 0.4716\n",
      "Epoch 45/200\n",
      "9/9 [==============================] - 1s 78ms/step - loss: 0.3891 - val_loss: 0.4729\n",
      "Epoch 46/200\n",
      "9/9 [==============================] - 1s 82ms/step - loss: 0.3890 - val_loss: 0.4733\n",
      "Epoch 47/200\n",
      "9/9 [==============================] - 1s 87ms/step - loss: 0.3865 - val_loss: 0.4700\n",
      "Epoch 48/200\n",
      "9/9 [==============================] - 1s 90ms/step - loss: 0.3856 - val_loss: 0.4695\n",
      "Epoch 49/200\n",
      "9/9 [==============================] - 1s 80ms/step - loss: 0.3838 - val_loss: 0.4711\n",
      "Epoch 50/200\n",
      "9/9 [==============================] - 1s 81ms/step - loss: 0.3826 - val_loss: 0.4699\n",
      "Epoch 51/200\n",
      "9/9 [==============================] - 1s 79ms/step - loss: 0.3816 - val_loss: 0.4697\n",
      "Epoch 52/200\n",
      "9/9 [==============================] - 1s 87ms/step - loss: 0.3810 - val_loss: 0.4682\n",
      "Epoch 53/200\n",
      "9/9 [==============================] - 1s 79ms/step - loss: 0.3794 - val_loss: 0.4707\n",
      "Epoch 54/200\n",
      "9/9 [==============================] - 1s 87ms/step - loss: 0.3784 - val_loss: 0.4680\n",
      "Epoch 55/200\n",
      "9/9 [==============================] - 1s 88ms/step - loss: 0.3775 - val_loss: 0.4662\n",
      "Epoch 56/200\n",
      "9/9 [==============================] - 1s 79ms/step - loss: 0.3767 - val_loss: 0.4692\n",
      "Epoch 57/200\n",
      "9/9 [==============================] - 1s 78ms/step - loss: 0.3766 - val_loss: 0.4666\n",
      "Epoch 58/200\n",
      "9/9 [==============================] - 1s 79ms/step - loss: 0.3769 - val_loss: 0.4666\n",
      "Epoch 59/200\n",
      "9/9 [==============================] - 1s 78ms/step - loss: 0.3758 - val_loss: 0.4695\n",
      "Epoch 60/200\n",
      "9/9 [==============================] - 1s 88ms/step - loss: 0.3747 - val_loss: 0.4658\n",
      "Epoch 61/200\n",
      "9/9 [==============================] - 1s 79ms/step - loss: 0.3737 - val_loss: 0.4661\n",
      "Epoch 62/200\n",
      "9/9 [==============================] - 1s 90ms/step - loss: 0.3736 - val_loss: 0.4642\n",
      "Epoch 63/200\n",
      "9/9 [==============================] - 1s 87ms/step - loss: 0.3718 - val_loss: 0.4637\n",
      "Epoch 64/200\n",
      "9/9 [==============================] - 1s 79ms/step - loss: 0.3706 - val_loss: 0.4650\n",
      "Epoch 65/200\n",
      "9/9 [==============================] - 1s 79ms/step - loss: 0.3705 - val_loss: 0.4651\n",
      "Epoch 66/200\n",
      "9/9 [==============================] - 1s 79ms/step - loss: 0.3694 - val_loss: 0.4642\n",
      "Epoch 67/200\n",
      "9/9 [==============================] - 1s 89ms/step - loss: 0.3685 - val_loss: 0.4628\n",
      "Epoch 68/200\n",
      "9/9 [==============================] - 1s 78ms/step - loss: 0.3685 - val_loss: 0.4652\n",
      "Epoch 69/200\n",
      "9/9 [==============================] - 1s 79ms/step - loss: 0.3678 - val_loss: 0.4660\n",
      "Epoch 70/200\n",
      "9/9 [==============================] - 1s 82ms/step - loss: 0.3660 - val_loss: 0.4634\n",
      "Epoch 71/200\n",
      "9/9 [==============================] - 1s 78ms/step - loss: 0.3653 - val_loss: 0.4639\n",
      "Epoch 72/200\n",
      "9/9 [==============================] - 1s 79ms/step - loss: 0.3641 - val_loss: 0.4666\n",
      "Epoch 73/200\n",
      "9/9 [==============================] - 1s 80ms/step - loss: 0.3640 - val_loss: 0.4659\n",
      "Epoch 74/200\n",
      "9/9 [==============================] - 1s 79ms/step - loss: 0.3633 - val_loss: 0.4638\n",
      "Epoch 75/200\n",
      "9/9 [==============================] - 1s 79ms/step - loss: 0.3632 - val_loss: 0.4634\n",
      "Epoch 76/200\n",
      "9/9 [==============================] - 1s 80ms/step - loss: 0.3619 - val_loss: 0.4628\n",
      "Epoch 77/200\n",
      "9/9 [==============================] - 1s 77ms/step - loss: 0.3613 - val_loss: 0.4650\n",
      "Epoch 78/200\n",
      "9/9 [==============================] - 1s 87ms/step - loss: 0.3612 - val_loss: 0.4624\n",
      "Epoch 79/200\n",
      "9/9 [==============================] - 1s 88ms/step - loss: 0.3606 - val_loss: 0.4623\n",
      "Epoch 80/200\n",
      "9/9 [==============================] - 1s 79ms/step - loss: 0.3598 - val_loss: 0.4635\n",
      "Epoch 81/200\n",
      "9/9 [==============================] - 1s 80ms/step - loss: 0.3589 - val_loss: 0.4637\n",
      "Epoch 82/200\n",
      "9/9 [==============================] - 1s 83ms/step - loss: 0.3586 - val_loss: 0.4629\n",
      "Epoch 83/200\n",
      "9/9 [==============================] - 1s 78ms/step - loss: 0.3587 - val_loss: 0.4634\n",
      "Epoch 84/200\n",
      "9/9 [==============================] - 1s 80ms/step - loss: 0.3585 - val_loss: 0.4631\n",
      "Epoch 85/200\n",
      "9/9 [==============================] - 1s 78ms/step - loss: 0.3579 - val_loss: 0.4649\n",
      "Epoch 86/200\n",
      "9/9 [==============================] - 1s 80ms/step - loss: 0.3567 - val_loss: 0.4655\n",
      "Epoch 87/200\n",
      "9/9 [==============================] - 1s 78ms/step - loss: 0.3557 - val_loss: 0.4648\n",
      "Epoch 88/200\n",
      "9/9 [==============================] - 1s 80ms/step - loss: 0.3555 - val_loss: 0.4676\n",
      "Epoch 89/200\n",
      "9/9 [==============================] - 1s 79ms/step - loss: 0.3549 - val_loss: 0.4631\n",
      "Epoch 90/200\n",
      "9/9 [==============================] - 1s 87ms/step - loss: 0.3549 - val_loss: 0.4622\n",
      "Epoch 91/200\n",
      "9/9 [==============================] - 1s 79ms/step - loss: 0.3547 - val_loss: 0.4623\n",
      "Epoch 92/200\n",
      "9/9 [==============================] - 1s 88ms/step - loss: 0.3543 - val_loss: 0.4616\n",
      "Epoch 93/200\n",
      "9/9 [==============================] - 1s 87ms/step - loss: 0.3534 - val_loss: 0.4609\n",
      "Epoch 94/200\n",
      "9/9 [==============================] - 1s 79ms/step - loss: 0.3527 - val_loss: 0.4627\n",
      "Epoch 95/200\n",
      "9/9 [==============================] - 1s 81ms/step - loss: 0.3525 - val_loss: 0.4619\n",
      "Epoch 96/200\n",
      "9/9 [==============================] - 1s 80ms/step - loss: 0.3522 - val_loss: 0.4632\n",
      "Epoch 97/200\n",
      "9/9 [==============================] - 1s 87ms/step - loss: 0.3524 - val_loss: 0.4592\n",
      "Epoch 98/200\n",
      "9/9 [==============================] - 1s 89ms/step - loss: 0.3520 - val_loss: 0.4642\n",
      "Epoch 99/200\n",
      "9/9 [==============================] - 1s 79ms/step - loss: 0.3508 - val_loss: 0.4657\n",
      "Epoch 100/200\n",
      "9/9 [==============================] - 1s 79ms/step - loss: 0.3505 - val_loss: 0.4632\n",
      "Epoch 101/200\n",
      "9/9 [==============================] - 1s 78ms/step - loss: 0.3499 - val_loss: 0.4628\n",
      "Epoch 102/200\n",
      "9/9 [==============================] - 1s 79ms/step - loss: 0.3487 - val_loss: 0.4619\n",
      "Epoch 103/200\n",
      "9/9 [==============================] - 1s 82ms/step - loss: 0.3486 - val_loss: 0.4615\n",
      "Epoch 104/200\n",
      "9/9 [==============================] - 1s 80ms/step - loss: 0.3481 - val_loss: 0.4635\n",
      "Epoch 105/200\n",
      "9/9 [==============================] - 1s 79ms/step - loss: 0.3486 - val_loss: 0.4633\n",
      "Epoch 106/200\n",
      "9/9 [==============================] - 1s 80ms/step - loss: 0.3481 - val_loss: 0.4608\n",
      "Epoch 107/200\n",
      "9/9 [==============================] - 1s 79ms/step - loss: 0.3475 - val_loss: 0.4612\n",
      "Epoch 108/200\n",
      "9/9 [==============================] - 1s 80ms/step - loss: 0.3471 - val_loss: 0.4624\n",
      "Epoch 109/200\n",
      "9/9 [==============================] - 1s 79ms/step - loss: 0.3465 - val_loss: 0.4607\n",
      "Epoch 110/200\n",
      "9/9 [==============================] - 1s 79ms/step - loss: 0.3462 - val_loss: 0.4636\n",
      "Epoch 111/200\n",
      "9/9 [==============================] - 1s 78ms/step - loss: 0.3461 - val_loss: 0.4629\n",
      "Epoch 112/200\n",
      "9/9 [==============================] - 1s 78ms/step - loss: 0.3455 - val_loss: 0.4624\n",
      "Epoch 113/200\n",
      "9/9 [==============================] - 1s 80ms/step - loss: 0.3447 - val_loss: 0.4629\n",
      "Epoch 114/200\n",
      "9/9 [==============================] - 1s 79ms/step - loss: 0.3441 - val_loss: 0.4617\n",
      "Epoch 115/200\n",
      "9/9 [==============================] - 1s 78ms/step - loss: 0.3437 - val_loss: 0.4626\n",
      "Epoch 116/200\n",
      "9/9 [==============================] - 1s 77ms/step - loss: 0.3438 - val_loss: 0.4601\n",
      "Epoch 117/200\n",
      "9/9 [==============================] - 1s 79ms/step - loss: 0.3437 - val_loss: 0.4631\n",
      "Epoch 118/200\n",
      "9/9 [==============================] - 1s 85ms/step - loss: 0.3429 - val_loss: 0.4614\n",
      "Epoch 119/200\n",
      "9/9 [==============================] - 1s 81ms/step - loss: 0.3430 - val_loss: 0.4630\n",
      "Epoch 120/200\n",
      "9/9 [==============================] - 1s 79ms/step - loss: 0.3423 - val_loss: 0.4619\n",
      "Epoch 121/200\n",
      "9/9 [==============================] - 1s 81ms/step - loss: 0.3416 - val_loss: 0.4625\n",
      "Epoch 122/200\n",
      "9/9 [==============================] - 1s 80ms/step - loss: 0.3414 - val_loss: 0.4626\n",
      "Epoch 123/200\n",
      "9/9 [==============================] - 1s 79ms/step - loss: 0.3414 - val_loss: 0.4635\n",
      "Epoch 124/200\n",
      "9/9 [==============================] - 1s 79ms/step - loss: 0.3409 - val_loss: 0.4651\n",
      "Epoch 125/200\n",
      "9/9 [==============================] - 1s 79ms/step - loss: 0.3416 - val_loss: 0.4604\n",
      "Epoch 126/200\n",
      "9/9 [==============================] - 1s 79ms/step - loss: 0.3415 - val_loss: 0.4636\n",
      "Epoch 127/200\n",
      "9/9 [==============================] - 1s 79ms/step - loss: 0.3413 - val_loss: 0.4628\n",
      "Epoch 128/200\n",
      "9/9 [==============================] - 1s 78ms/step - loss: 0.3403 - val_loss: 0.4620\n",
      "Epoch 129/200\n",
      "9/9 [==============================] - 1s 79ms/step - loss: 0.3394 - val_loss: 0.4617\n",
      "Epoch 130/200\n",
      "9/9 [==============================] - 1s 79ms/step - loss: 0.3390 - val_loss: 0.4631\n",
      "Epoch 131/200\n",
      "9/9 [==============================] - 1s 79ms/step - loss: 0.3385 - val_loss: 0.4627\n",
      "Epoch 132/200\n",
      "9/9 [==============================] - 1s 81ms/step - loss: 0.3377 - val_loss: 0.4628\n",
      "Epoch 133/200\n",
      "9/9 [==============================] - 1s 80ms/step - loss: 0.3376 - val_loss: 0.4623\n",
      "Epoch 134/200\n",
      "9/9 [==============================] - 1s 85ms/step - loss: 0.3371 - val_loss: 0.4608\n",
      "Epoch 135/200\n",
      "9/9 [==============================] - 1s 79ms/step - loss: 0.3365 - val_loss: 0.4657\n",
      "Epoch 136/200\n",
      "9/9 [==============================] - 1s 80ms/step - loss: 0.3358 - val_loss: 0.4641\n",
      "Epoch 137/200\n",
      "9/9 [==============================] - 1s 78ms/step - loss: 0.3361 - val_loss: 0.4620\n",
      "Epoch 138/200\n",
      "9/9 [==============================] - 1s 79ms/step - loss: 0.3363 - val_loss: 0.4596\n",
      "Epoch 139/200\n",
      "9/9 [==============================] - 1s 78ms/step - loss: 0.3351 - val_loss: 0.4641\n",
      "Epoch 140/200\n",
      "9/9 [==============================] - 1s 79ms/step - loss: 0.3348 - val_loss: 0.4624\n",
      "Epoch 141/200\n",
      "9/9 [==============================] - 1s 81ms/step - loss: 0.3380 - val_loss: 0.4633\n",
      "Epoch 142/200\n",
      "9/9 [==============================] - 1s 80ms/step - loss: 0.3365 - val_loss: 0.4619\n",
      "Epoch 143/200\n",
      "9/9 [==============================] - 1s 80ms/step - loss: 0.3356 - val_loss: 0.4671\n",
      "Epoch 144/200\n",
      "9/9 [==============================] - 1s 82ms/step - loss: 0.3359 - val_loss: 0.4639\n",
      "Epoch 145/200\n",
      "9/9 [==============================] - 1s 80ms/step - loss: 0.3388 - val_loss: 0.4651\n",
      "Epoch 146/200\n",
      "9/9 [==============================] - 1s 79ms/step - loss: 0.3365 - val_loss: 0.4627\n",
      "Epoch 147/200\n",
      "9/9 [==============================] - 1s 78ms/step - loss: 0.3344 - val_loss: 0.4625\n",
      "Epoch 148/200\n",
      "9/9 [==============================] - 1s 80ms/step - loss: 0.3337 - val_loss: 0.4676\n",
      "Epoch 149/200\n",
      "9/9 [==============================] - 1s 78ms/step - loss: 0.3356 - val_loss: 0.4635\n",
      "Epoch 150/200\n",
      "9/9 [==============================] - 1s 79ms/step - loss: 0.3349 - val_loss: 0.4757\n",
      "Epoch 151/200\n",
      "9/9 [==============================] - 1s 78ms/step - loss: 0.3357 - val_loss: 0.4624\n",
      "Epoch 152/200\n",
      "9/9 [==============================] - 1s 78ms/step - loss: 0.3357 - val_loss: 0.4680\n",
      "Epoch 153/200\n",
      "9/9 [==============================] - 1s 79ms/step - loss: 0.3333 - val_loss: 0.4649\n",
      "Epoch 154/200\n",
      "9/9 [==============================] - 1s 79ms/step - loss: 0.3332 - val_loss: 0.4632\n",
      "Epoch 155/200\n",
      "9/9 [==============================] - 1s 79ms/step - loss: 0.3350 - val_loss: 0.4608\n",
      "Epoch 156/200\n",
      "9/9 [==============================] - 1s 80ms/step - loss: 0.3343 - val_loss: 0.4660\n",
      "Epoch 157/200\n",
      "9/9 [==============================] - 1s 83ms/step - loss: 0.3330 - val_loss: 0.4672\n",
      "Epoch 158/200\n",
      "9/9 [==============================] - 1s 80ms/step - loss: 0.3325 - val_loss: 0.4620\n",
      "Epoch 159/200\n",
      "9/9 [==============================] - 1s 82ms/step - loss: 0.3310 - val_loss: 0.4720\n",
      "Epoch 160/200\n",
      "9/9 [==============================] - 1s 79ms/step - loss: 0.3306 - val_loss: 0.4640\n",
      "Epoch 161/200\n",
      "9/9 [==============================] - 1s 78ms/step - loss: 0.3310 - val_loss: 0.4643\n",
      "Epoch 162/200\n",
      "9/9 [==============================] - 1s 79ms/step - loss: 0.3313 - val_loss: 0.4648\n",
      "Epoch 163/200\n",
      "9/9 [==============================] - 1s 79ms/step - loss: 0.3306 - val_loss: 0.4641\n",
      "Epoch 164/200\n",
      "9/9 [==============================] - 1s 78ms/step - loss: 0.3299 - val_loss: 0.4645\n",
      "Epoch 165/200\n",
      "9/9 [==============================] - 1s 80ms/step - loss: 0.3288 - val_loss: 0.4629\n",
      "Epoch 166/200\n",
      "9/9 [==============================] - 1s 78ms/step - loss: 0.3276 - val_loss: 0.4645\n",
      "Epoch 167/200\n",
      "9/9 [==============================] - 1s 79ms/step - loss: 0.3267 - val_loss: 0.4637\n",
      "Epoch 168/200\n",
      "9/9 [==============================] - 1s 78ms/step - loss: 0.3265 - val_loss: 0.4622\n",
      "Epoch 169/200\n",
      "9/9 [==============================] - 1s 80ms/step - loss: 0.3262 - val_loss: 0.4652\n",
      "Epoch 170/200\n",
      "9/9 [==============================] - 1s 80ms/step - loss: 0.3256 - val_loss: 0.4658\n",
      "Epoch 171/200\n",
      "9/9 [==============================] - 1s 80ms/step - loss: 0.3259 - val_loss: 0.4630\n",
      "Epoch 172/200\n",
      "9/9 [==============================] - 1s 78ms/step - loss: 0.3256 - val_loss: 0.4652\n",
      "Epoch 173/200\n",
      "9/9 [==============================] - 1s 78ms/step - loss: 0.3250 - val_loss: 0.4653\n",
      "Epoch 174/200\n",
      "9/9 [==============================] - 1s 78ms/step - loss: 0.3247 - val_loss: 0.4651\n",
      "Epoch 175/200\n",
      "9/9 [==============================] - 1s 79ms/step - loss: 0.3241 - val_loss: 0.4633\n",
      "Epoch 176/200\n",
      "9/9 [==============================] - 1s 79ms/step - loss: 0.3237 - val_loss: 0.4667\n",
      "Epoch 177/200\n",
      "9/9 [==============================] - 1s 79ms/step - loss: 0.3240 - val_loss: 0.4632\n",
      "Epoch 178/200\n",
      "9/9 [==============================] - 1s 81ms/step - loss: 0.3231 - val_loss: 0.4664\n",
      "Epoch 179/200\n",
      "9/9 [==============================] - 1s 80ms/step - loss: 0.3226 - val_loss: 0.4650\n",
      "Epoch 180/200\n",
      "9/9 [==============================] - 1s 81ms/step - loss: 0.3225 - val_loss: 0.4658\n",
      "Epoch 181/200\n",
      "9/9 [==============================] - 1s 80ms/step - loss: 0.3224 - val_loss: 0.4670\n",
      "Epoch 182/200\n",
      "9/9 [==============================] - 1s 77ms/step - loss: 0.3222 - val_loss: 0.4664\n",
      "Epoch 183/200\n",
      "9/9 [==============================] - 1s 81ms/step - loss: 0.3219 - val_loss: 0.4695\n",
      "Epoch 184/200\n",
      "9/9 [==============================] - 1s 80ms/step - loss: 0.3219 - val_loss: 0.4702\n",
      "Epoch 185/200\n",
      "9/9 [==============================] - 1s 79ms/step - loss: 0.3217 - val_loss: 0.4730\n",
      "Epoch 186/200\n",
      "9/9 [==============================] - 1s 79ms/step - loss: 0.3219 - val_loss: 0.4678\n",
      "Epoch 187/200\n",
      "9/9 [==============================] - 1s 79ms/step - loss: 0.3206 - val_loss: 0.4688\n",
      "Epoch 188/200\n",
      "9/9 [==============================] - 1s 79ms/step - loss: 0.3197 - val_loss: 0.4673\n",
      "Epoch 189/200\n",
      "9/9 [==============================] - 1s 79ms/step - loss: 0.3196 - val_loss: 0.4686\n",
      "Epoch 190/200\n",
      "9/9 [==============================] - 1s 80ms/step - loss: 0.3188 - val_loss: 0.4660\n",
      "Epoch 191/200\n",
      "9/9 [==============================] - 1s 79ms/step - loss: 0.3187 - val_loss: 0.4674\n",
      "Epoch 192/200\n",
      "9/9 [==============================] - 1s 79ms/step - loss: 0.3188 - val_loss: 0.4688\n",
      "Epoch 193/200\n",
      "9/9 [==============================] - 1s 81ms/step - loss: 0.3178 - val_loss: 0.4664\n",
      "Epoch 194/200\n",
      "9/9 [==============================] - 1s 82ms/step - loss: 0.3179 - val_loss: 0.4670\n",
      "Epoch 195/200\n",
      "9/9 [==============================] - 1s 78ms/step - loss: 0.3191 - val_loss: 0.4692\n",
      "Epoch 196/200\n",
      "9/9 [==============================] - 1s 83ms/step - loss: 0.3175 - val_loss: 0.4681\n",
      "Epoch 197/200\n",
      "9/9 [==============================] - 1s 78ms/step - loss: 0.3173 - val_loss: 0.4661\n",
      "Epoch 198/200\n",
      "9/9 [==============================] - 1s 79ms/step - loss: 0.3170 - val_loss: 0.4681\n",
      "Epoch 199/200\n",
      "9/9 [==============================] - 1s 79ms/step - loss: 0.3165 - val_loss: 0.4705\n",
      "Epoch 200/200\n",
      "9/9 [==============================] - 1s 79ms/step - loss: 0.3158 - val_loss: 0.4685\n"
     ]
    }
   ],
   "source": [
    "def scheduler(epoch, lr):\n",
    "    if epoch < 10:\n",
    "        return lr\n",
    "    else:\n",
    "        return lr * tf.math.exp(-0.01)\n",
    "\n",
    "history = model.fit(x_train, y_train, validation_split=.1,\n",
    "          batch_size=BATCH_SIZE, epochs=EPOCHS, verbose=1,\n",
    "          callbacks=[\n",
    "              tf.keras.callbacks.LearningRateScheduler(scheduler),\n",
    "              tf.keras.callbacks.ModelCheckpoint(f\"model_{MODEL_VERSION}.h5\", save_best_only=True)\n",
    "          ])"
   ]
  },
  {
   "cell_type": "code",
   "execution_count": 22,
   "metadata": {
    "tags": []
   },
   "outputs": [
    {
     "name": "stdout",
     "output_type": "stream",
     "text": [
      "INFO:tensorflow:Assets written to: saved_model/assets\n"
     ]
    }
   ],
   "source": [
    "model.save('saved_model')"
   ]
  },
  {
   "cell_type": "markdown",
   "metadata": {
    "tags": []
   },
   "source": [
    "# Fine tune the model"
   ]
  },
  {
   "cell_type": "code",
   "execution_count": 26,
   "metadata": {},
   "outputs": [],
   "source": [
    "model = tf.keras.models.load_model(\"saved_model\", compile=False)"
   ]
  },
  {
   "cell_type": "code",
   "execution_count": 27,
   "metadata": {},
   "outputs": [],
   "source": [
    "model.compile(loss=MeanColumnwiseRMSE(),\n",
    "              optimizer=tf.keras.optimizers.Adam(learning_rate=1e-4))"
   ]
  },
  {
   "cell_type": "code",
   "execution_count": 28,
   "metadata": {},
   "outputs": [
    {
     "name": "stdout",
     "output_type": "stream",
     "text": [
      "Epoch 1/100\n",
      "9/9 [==============================] - 3s 286ms/step - loss: 0.3156 - val_loss: 0.4688\n",
      "Epoch 2/100\n",
      "9/9 [==============================] - 1s 78ms/step - loss: 0.3147 - val_loss: 0.4685\n",
      "Epoch 3/100\n",
      "9/9 [==============================] - 1s 86ms/step - loss: 0.3140 - val_loss: 0.4686\n",
      "Epoch 4/100\n",
      "9/9 [==============================] - 1s 80ms/step - loss: 0.3139 - val_loss: 0.4695\n",
      "Epoch 5/100\n",
      "9/9 [==============================] - 1s 82ms/step - loss: 0.3141 - val_loss: 0.4692\n",
      "Epoch 6/100\n",
      "9/9 [==============================] - 1s 80ms/step - loss: 0.3136 - val_loss: 0.4694\n",
      "Epoch 7/100\n",
      "9/9 [==============================] - 1s 79ms/step - loss: 0.3135 - val_loss: 0.4694\n",
      "Epoch 8/100\n",
      "9/9 [==============================] - 1s 79ms/step - loss: 0.3136 - val_loss: 0.4695\n",
      "Epoch 9/100\n",
      "9/9 [==============================] - 1s 79ms/step - loss: 0.3133 - val_loss: 0.4696\n",
      "Epoch 10/100\n",
      "9/9 [==============================] - 1s 79ms/step - loss: 0.3131 - val_loss: 0.4700\n",
      "Epoch 11/100\n",
      "9/9 [==============================] - 1s 80ms/step - loss: 0.3133 - val_loss: 0.4704\n",
      "Epoch 12/100\n",
      "9/9 [==============================] - 1s 78ms/step - loss: 0.3130 - val_loss: 0.4700\n",
      "Epoch 13/100\n",
      "9/9 [==============================] - 1s 79ms/step - loss: 0.3131 - val_loss: 0.4697\n",
      "Epoch 14/100\n",
      "9/9 [==============================] - 1s 79ms/step - loss: 0.3129 - val_loss: 0.4697\n",
      "Epoch 15/100\n",
      "9/9 [==============================] - 1s 80ms/step - loss: 0.3128 - val_loss: 0.4694\n",
      "Epoch 16/100\n",
      "9/9 [==============================] - 1s 82ms/step - loss: 0.3128 - val_loss: 0.4698\n",
      "Epoch 17/100\n",
      "9/9 [==============================] - 1s 78ms/step - loss: 0.3129 - val_loss: 0.4710\n",
      "Epoch 18/100\n",
      "9/9 [==============================] - 1s 82ms/step - loss: 0.3129 - val_loss: 0.4708\n",
      "Epoch 19/100\n",
      "9/9 [==============================] - 1s 80ms/step - loss: 0.3128 - val_loss: 0.4710\n",
      "Epoch 20/100\n",
      "9/9 [==============================] - 1s 80ms/step - loss: 0.3125 - val_loss: 0.4709\n",
      "Epoch 21/100\n",
      "9/9 [==============================] - 1s 79ms/step - loss: 0.3128 - val_loss: 0.4712\n",
      "Epoch 22/100\n",
      "9/9 [==============================] - 1s 79ms/step - loss: 0.3124 - val_loss: 0.4721\n",
      "Epoch 23/100\n",
      "9/9 [==============================] - 1s 80ms/step - loss: 0.3123 - val_loss: 0.4722\n",
      "Epoch 24/100\n",
      "9/9 [==============================] - 1s 79ms/step - loss: 0.3121 - val_loss: 0.4719\n",
      "Epoch 25/100\n",
      "9/9 [==============================] - 1s 79ms/step - loss: 0.3121 - val_loss: 0.4717\n",
      "Epoch 26/100\n",
      "9/9 [==============================] - 1s 78ms/step - loss: 0.3121 - val_loss: 0.4720\n",
      "Epoch 27/100\n",
      "9/9 [==============================] - 1s 80ms/step - loss: 0.3119 - val_loss: 0.4724\n",
      "Epoch 28/100\n",
      "9/9 [==============================] - 1s 80ms/step - loss: 0.3113 - val_loss: 0.4724\n",
      "Epoch 29/100\n",
      "9/9 [==============================] - 1s 79ms/step - loss: 0.3117 - val_loss: 0.4720\n",
      "Epoch 30/100\n",
      "9/9 [==============================] - 1s 79ms/step - loss: 0.3123 - val_loss: 0.4717\n",
      "Epoch 31/100\n",
      "9/9 [==============================] - 1s 78ms/step - loss: 0.3122 - val_loss: 0.4711\n",
      "Epoch 32/100\n",
      "9/9 [==============================] - 1s 79ms/step - loss: 0.3115 - val_loss: 0.4719\n",
      "Epoch 33/100\n",
      "9/9 [==============================] - 1s 80ms/step - loss: 0.3117 - val_loss: 0.4717\n",
      "Epoch 34/100\n",
      "9/9 [==============================] - 1s 80ms/step - loss: 0.3113 - val_loss: 0.4721\n",
      "Epoch 35/100\n",
      "9/9 [==============================] - 1s 80ms/step - loss: 0.3115 - val_loss: 0.4713\n",
      "Epoch 36/100\n",
      "9/9 [==============================] - 1s 78ms/step - loss: 0.3114 - val_loss: 0.4712\n",
      "Epoch 37/100\n",
      "9/9 [==============================] - 1s 79ms/step - loss: 0.3115 - val_loss: 0.4713\n",
      "Epoch 38/100\n",
      "9/9 [==============================] - 1s 82ms/step - loss: 0.3112 - val_loss: 0.4715\n",
      "Epoch 39/100\n",
      "9/9 [==============================] - 1s 80ms/step - loss: 0.3114 - val_loss: 0.4717\n",
      "Epoch 40/100\n",
      "9/9 [==============================] - 1s 79ms/step - loss: 0.3112 - val_loss: 0.4720\n",
      "Epoch 41/100\n",
      "9/9 [==============================] - 1s 82ms/step - loss: 0.3113 - val_loss: 0.4721\n",
      "Epoch 42/100\n",
      "9/9 [==============================] - 1s 78ms/step - loss: 0.3114 - val_loss: 0.4727\n",
      "Epoch 43/100\n",
      "9/9 [==============================] - 1s 81ms/step - loss: 0.3111 - val_loss: 0.4729\n",
      "Epoch 44/100\n",
      "9/9 [==============================] - 1s 80ms/step - loss: 0.3111 - val_loss: 0.4728\n",
      "Epoch 45/100\n",
      "9/9 [==============================] - 1s 80ms/step - loss: 0.3112 - val_loss: 0.4724\n",
      "Epoch 46/100\n",
      "9/9 [==============================] - 1s 79ms/step - loss: 0.3112 - val_loss: 0.4724\n",
      "Epoch 47/100\n",
      "9/9 [==============================] - 1s 82ms/step - loss: 0.3113 - val_loss: 0.4713\n",
      "Epoch 48/100\n",
      "9/9 [==============================] - 1s 80ms/step - loss: 0.3112 - val_loss: 0.4721\n",
      "Epoch 49/100\n",
      "9/9 [==============================] - 1s 79ms/step - loss: 0.3112 - val_loss: 0.4726\n",
      "Epoch 50/100\n",
      "9/9 [==============================] - 1s 79ms/step - loss: 0.3105 - val_loss: 0.4734\n",
      "Epoch 51/100\n",
      "9/9 [==============================] - 1s 78ms/step - loss: 0.3109 - val_loss: 0.4728\n",
      "Epoch 52/100\n",
      "9/9 [==============================] - 1s 80ms/step - loss: 0.3106 - val_loss: 0.4727\n",
      "Epoch 53/100\n",
      "9/9 [==============================] - 1s 79ms/step - loss: 0.3110 - val_loss: 0.4733\n",
      "Epoch 54/100\n",
      "9/9 [==============================] - 1s 79ms/step - loss: 0.3104 - val_loss: 0.4723\n",
      "Epoch 55/100\n",
      "9/9 [==============================] - 1s 79ms/step - loss: 0.3105 - val_loss: 0.4724\n",
      "Epoch 56/100\n",
      "9/9 [==============================] - 1s 79ms/step - loss: 0.3101 - val_loss: 0.4724\n",
      "Epoch 57/100\n",
      "9/9 [==============================] - 1s 80ms/step - loss: 0.3102 - val_loss: 0.4721\n",
      "Epoch 58/100\n",
      "9/9 [==============================] - 1s 79ms/step - loss: 0.3103 - val_loss: 0.4723\n",
      "Epoch 59/100\n",
      "9/9 [==============================] - 1s 80ms/step - loss: 0.3101 - val_loss: 0.4725\n",
      "Epoch 60/100\n",
      "9/9 [==============================] - 1s 79ms/step - loss: 0.3100 - val_loss: 0.4727\n",
      "Epoch 61/100\n",
      "9/9 [==============================] - 1s 81ms/step - loss: 0.3099 - val_loss: 0.4732\n",
      "Epoch 62/100\n",
      "9/9 [==============================] - 1s 78ms/step - loss: 0.3102 - val_loss: 0.4733\n",
      "Epoch 63/100\n",
      "9/9 [==============================] - 1s 78ms/step - loss: 0.3101 - val_loss: 0.4724\n",
      "Epoch 64/100\n",
      "9/9 [==============================] - 1s 79ms/step - loss: 0.3101 - val_loss: 0.4723\n",
      "Epoch 65/100\n",
      "9/9 [==============================] - 1s 79ms/step - loss: 0.3101 - val_loss: 0.4732\n",
      "Epoch 66/100\n",
      "9/9 [==============================] - 1s 81ms/step - loss: 0.3102 - val_loss: 0.4742\n",
      "Epoch 67/100\n",
      "9/9 [==============================] - 1s 79ms/step - loss: 0.3100 - val_loss: 0.4741\n",
      "Epoch 68/100\n",
      "9/9 [==============================] - 1s 78ms/step - loss: 0.3097 - val_loss: 0.4743\n",
      "Epoch 69/100\n",
      "9/9 [==============================] - 1s 79ms/step - loss: 0.3096 - val_loss: 0.4747\n",
      "Epoch 70/100\n",
      "9/9 [==============================] - 1s 79ms/step - loss: 0.3093 - val_loss: 0.4751\n",
      "Epoch 71/100\n",
      "9/9 [==============================] - 1s 79ms/step - loss: 0.3100 - val_loss: 0.4750\n",
      "Epoch 72/100\n",
      "9/9 [==============================] - 1s 78ms/step - loss: 0.3092 - val_loss: 0.4739\n",
      "Epoch 73/100\n",
      "9/9 [==============================] - 1s 80ms/step - loss: 0.3095 - val_loss: 0.4735\n",
      "Epoch 74/100\n",
      "9/9 [==============================] - 1s 79ms/step - loss: 0.3096 - val_loss: 0.4733\n",
      "Epoch 75/100\n",
      "9/9 [==============================] - 1s 79ms/step - loss: 0.3094 - val_loss: 0.4734\n",
      "Epoch 76/100\n",
      "9/9 [==============================] - 1s 79ms/step - loss: 0.3093 - val_loss: 0.4735\n",
      "Epoch 77/100\n",
      "9/9 [==============================] - 1s 81ms/step - loss: 0.3091 - val_loss: 0.4747\n",
      "Epoch 78/100\n",
      "9/9 [==============================] - 1s 77ms/step - loss: 0.3095 - val_loss: 0.4748\n",
      "Epoch 79/100\n",
      "9/9 [==============================] - 1s 79ms/step - loss: 0.3092 - val_loss: 0.4747\n",
      "Epoch 80/100\n",
      "9/9 [==============================] - 1s 80ms/step - loss: 0.3089 - val_loss: 0.4737\n",
      "Epoch 81/100\n",
      "9/9 [==============================] - 1s 79ms/step - loss: 0.3094 - val_loss: 0.4729\n",
      "Epoch 82/100\n",
      "9/9 [==============================] - 1s 79ms/step - loss: 0.3097 - val_loss: 0.4740\n",
      "Epoch 83/100\n",
      "9/9 [==============================] - 1s 79ms/step - loss: 0.3090 - val_loss: 0.4748\n",
      "Epoch 84/100\n",
      "9/9 [==============================] - 1s 79ms/step - loss: 0.3091 - val_loss: 0.4760\n",
      "Epoch 85/100\n",
      "9/9 [==============================] - 1s 81ms/step - loss: 0.3091 - val_loss: 0.4753\n",
      "Epoch 86/100\n",
      "9/9 [==============================] - 1s 78ms/step - loss: 0.3091 - val_loss: 0.4735\n",
      "Epoch 87/100\n",
      "9/9 [==============================] - 1s 79ms/step - loss: 0.3090 - val_loss: 0.4731\n",
      "Epoch 88/100\n",
      "9/9 [==============================] - 1s 78ms/step - loss: 0.3086 - val_loss: 0.4737\n",
      "Epoch 89/100\n",
      "9/9 [==============================] - 1s 80ms/step - loss: 0.3085 - val_loss: 0.4734\n",
      "Epoch 90/100\n",
      "9/9 [==============================] - 1s 81ms/step - loss: 0.3089 - val_loss: 0.4731\n",
      "Epoch 91/100\n",
      "9/9 [==============================] - 1s 79ms/step - loss: 0.3086 - val_loss: 0.4738\n",
      "Epoch 92/100\n",
      "9/9 [==============================] - 1s 80ms/step - loss: 0.3084 - val_loss: 0.4741\n",
      "Epoch 93/100\n",
      "9/9 [==============================] - 1s 79ms/step - loss: 0.3084 - val_loss: 0.4735\n",
      "Epoch 94/100\n",
      "9/9 [==============================] - 1s 79ms/step - loss: 0.3081 - val_loss: 0.4731\n",
      "Epoch 95/100\n",
      "9/9 [==============================] - 1s 78ms/step - loss: 0.3082 - val_loss: 0.4733\n",
      "Epoch 96/100\n",
      "9/9 [==============================] - 1s 81ms/step - loss: 0.3082 - val_loss: 0.4736\n",
      "Epoch 97/100\n",
      "9/9 [==============================] - 1s 78ms/step - loss: 0.3080 - val_loss: 0.4737\n",
      "Epoch 98/100\n",
      "9/9 [==============================] - 1s 78ms/step - loss: 0.3080 - val_loss: 0.4731\n",
      "Epoch 99/100\n",
      "9/9 [==============================] - 1s 79ms/step - loss: 0.3080 - val_loss: 0.4724\n",
      "Epoch 100/100\n",
      "9/9 [==============================] - 1s 80ms/step - loss: 0.3081 - val_loss: 0.4731\n"
     ]
    }
   ],
   "source": [
    "ft_history = model.fit(x_train, y_train, validation_split=.1,\n",
    "                       batch_size=BATCH_SIZE, epochs=100, verbose=1)"
   ]
  },
  {
   "cell_type": "markdown",
   "metadata": {
    "tags": []
   },
   "source": [
    "## Evaluate the model"
   ]
  },
  {
   "cell_type": "code",
   "execution_count": 29,
   "metadata": {
    "tags": []
   },
   "outputs": [],
   "source": [
    "public_test_data, _ = process_features(public_test_df)\n",
    "private_test_data, _ = process_features(private_test_df)"
   ]
  },
  {
   "cell_type": "code",
   "execution_count": 30,
   "metadata": {
    "tags": []
   },
   "outputs": [],
   "source": [
    "model_public = build_model(vocab_size, seq_length=107, pred_len=107)\n",
    "model_private = build_model(vocab_size, seq_length=130, pred_len=130)\n",
    "\n",
    "model_public.load_weights(f\"model_{MODEL_VERSION}.h5\")\n",
    "model_private.load_weights(f\"model_{MODEL_VERSION}.h5\")"
   ]
  },
  {
   "cell_type": "code",
   "execution_count": 31,
   "metadata": {
    "tags": [
     "block:model_public"
    ]
   },
   "outputs": [],
   "source": [
    "public_preds = model_public.predict(public_test_data)\n",
    "private_preds = model_private.predict(private_test_data)"
   ]
  },
  {
   "cell_type": "markdown",
   "metadata": {
    "tags": []
   },
   "source": [
    "# Submission"
   ]
  },
  {
   "cell_type": "code",
   "execution_count": 32,
   "metadata": {
    "tags": []
   },
   "outputs": [
    {
     "data": {
      "text/html": [
       "<div>\n",
       "<style scoped>\n",
       "    .dataframe tbody tr th:only-of-type {\n",
       "        vertical-align: middle;\n",
       "    }\n",
       "\n",
       "    .dataframe tbody tr th {\n",
       "        vertical-align: top;\n",
       "    }\n",
       "\n",
       "    .dataframe thead th {\n",
       "        text-align: right;\n",
       "    }\n",
       "</style>\n",
       "<table border=\"1\" class=\"dataframe\">\n",
       "  <thead>\n",
       "    <tr style=\"text-align: right;\">\n",
       "      <th></th>\n",
       "      <th>reactivity</th>\n",
       "      <th>deg_Mg_pH10</th>\n",
       "      <th>deg_Mg_50C</th>\n",
       "      <th>deg_pH10</th>\n",
       "      <th>deg_50C</th>\n",
       "      <th>id_seqpos</th>\n",
       "    </tr>\n",
       "  </thead>\n",
       "  <tbody>\n",
       "    <tr>\n",
       "      <th>0</th>\n",
       "      <td>0.585464</td>\n",
       "      <td>0.598366</td>\n",
       "      <td>0.518347</td>\n",
       "      <td>1.969975</td>\n",
       "      <td>0.706725</td>\n",
       "      <td>id_00073f8be_0</td>\n",
       "    </tr>\n",
       "    <tr>\n",
       "      <th>1</th>\n",
       "      <td>2.004080</td>\n",
       "      <td>3.021512</td>\n",
       "      <td>3.253051</td>\n",
       "      <td>4.197938</td>\n",
       "      <td>2.865593</td>\n",
       "      <td>id_00073f8be_1</td>\n",
       "    </tr>\n",
       "    <tr>\n",
       "      <th>2</th>\n",
       "      <td>1.352085</td>\n",
       "      <td>0.454490</td>\n",
       "      <td>0.557595</td>\n",
       "      <td>0.554804</td>\n",
       "      <td>0.668549</td>\n",
       "      <td>id_00073f8be_2</td>\n",
       "    </tr>\n",
       "    <tr>\n",
       "      <th>3</th>\n",
       "      <td>1.140306</td>\n",
       "      <td>0.992853</td>\n",
       "      <td>1.636934</td>\n",
       "      <td>1.106833</td>\n",
       "      <td>1.573088</td>\n",
       "      <td>id_00073f8be_3</td>\n",
       "    </tr>\n",
       "    <tr>\n",
       "      <th>4</th>\n",
       "      <td>0.843897</td>\n",
       "      <td>0.560205</td>\n",
       "      <td>0.888484</td>\n",
       "      <td>0.568688</td>\n",
       "      <td>0.876356</td>\n",
       "      <td>id_00073f8be_4</td>\n",
       "    </tr>\n",
       "  </tbody>\n",
       "</table>\n",
       "</div>"
      ],
      "text/plain": [
       "   reactivity  deg_Mg_pH10  deg_Mg_50C  deg_pH10   deg_50C       id_seqpos\n",
       "0    0.585464     0.598366    0.518347  1.969975  0.706725  id_00073f8be_0\n",
       "1    2.004080     3.021512    3.253051  4.197938  2.865593  id_00073f8be_1\n",
       "2    1.352085     0.454490    0.557595  0.554804  0.668549  id_00073f8be_2\n",
       "3    1.140306     0.992853    1.636934  1.106833  1.573088  id_00073f8be_3\n",
       "4    0.843897     0.560205    0.888484  0.568688  0.876356  id_00073f8be_4"
      ]
     },
     "execution_count": 32,
     "metadata": {},
     "output_type": "execute_result"
    }
   ],
   "source": [
    "preds_ls = []\n",
    "\n",
    "for df, preds in [(public_test_df, public_preds), (private_test_df, private_preds)]:\n",
    "    for i, uid in enumerate(df.id):\n",
    "        single_pred = preds[i]\n",
    "\n",
    "        single_df = pd.DataFrame(single_pred, columns=pred_cols)\n",
    "        single_df['id_seqpos'] = [f'{uid}_{x}' for x in range(single_df.shape[0])]\n",
    "\n",
    "        preds_ls.append(single_df)\n",
    "\n",
    "preds_df = pd.concat(preds_ls)\n",
    "preds_df.head()"
   ]
  },
  {
   "cell_type": "code",
   "execution_count": 33,
   "metadata": {
    "tags": []
   },
   "outputs": [],
   "source": [
    "submission = sample_submission_df[['id_seqpos']].merge(preds_df, on=['id_seqpos'])\n",
    "submission.to_csv('submission.csv', index=False)"
   ]
  }
 ],
 "metadata": {
  "kernelspec": {
   "display_name": "Python 3",
   "language": "python",
   "name": "python3"
  },
  "kubeflow_notebook": {
   "autosnapshot": true,
   "docker_image": "gcr.io/arrikto-playground/jupyter-kale:beb3b7f-03892c7",
   "experiment": {
    "id": "",
    "name": ""
   },
   "experiment_name": "",
   "katib_metadata": {
    "algorithm": {
     "algorithmName": "grid"
    },
    "maxFailedTrialCount": 3,
    "maxTrialCount": 12,
    "objective": {
     "objectiveMetricName": "",
     "type": "minimize"
    },
    "parallelTrialCount": 3,
    "parameters": []
   },
   "katib_run": false,
   "pipeline_description": "",
   "pipeline_name": "",
   "snapshot_volumes": true,
   "steps_defaults": [
    "label:access-ml-pipeline:true",
    "label:access-rok:true"
   ],
   "volumes": [
    {
     "annotations": [],
     "mount_point": "/home/jovyan",
     "name": "workspace-examples-server-l7q82ak70",
     "size": 10,
     "size_type": "Gi",
     "snapshot": false,
     "type": "clone"
    }
   ]
  },
  "language_info": {
   "codemirror_mode": {
    "name": "ipython",
    "version": 3
   },
   "file_extension": ".py",
   "mimetype": "text/x-python",
   "name": "python",
   "nbconvert_exporter": "python",
   "pygments_lexer": "ipython3",
   "version": "3.6.9"
  }
 },
 "nbformat": 4,
 "nbformat_minor": 4
}
