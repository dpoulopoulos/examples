{
 "cells": [
  {
   "cell_type": "code",
   "execution_count": 1,
   "metadata": {},
   "outputs": [],
   "source": [
    "import torch\n",
    "import torch.nn as nn\n",
    "import torch.nn.functional as F\n",
    "import torch.optim as optim\n",
    "\n",
    "from torchvision import datasets, transforms"
   ]
  },
  {
   "cell_type": "code",
   "execution_count": 2,
   "metadata": {},
   "outputs": [],
   "source": [
    "LR = 1e-3\n",
    "BATCH_SIZE = 500\n",
    "EPOCHS = 1"
   ]
  },
  {
   "cell_type": "code",
   "execution_count": 3,
   "metadata": {},
   "outputs": [],
   "source": [
    "transform=transforms.Compose([\n",
    "    transforms.ToTensor(),\n",
    "    transforms.Normalize((0.1307,), (0.3081,))\n",
    "])"
   ]
  },
  {
   "cell_type": "code",
   "execution_count": 4,
   "metadata": {},
   "outputs": [],
   "source": [
    "x_trn = datasets.MNIST('data', train=True, transform=transform, download=True)\n",
    "x_tst = datasets.MNIST('data', train=False, transform=transform)"
   ]
  },
  {
   "cell_type": "code",
   "execution_count": 5,
   "metadata": {},
   "outputs": [],
   "source": [
    "trn_loader = torch.utils.data.DataLoader(x_trn, batch_size=BATCH_SIZE)\n",
    "tst_loader = torch.utils.data.DataLoader(x_tst, batch_size=BATCH_SIZE)"
   ]
  },
  {
   "cell_type": "code",
   "execution_count": 6,
   "metadata": {},
   "outputs": [],
   "source": [
    "class Net(nn.Module):\n",
    "    def __init__(self):\n",
    "        super(Net, self).__init__()\n",
    "        self.conv1 = nn.Conv2d(1, 32, 3, 1)\n",
    "        self.conv2 = nn.Conv2d(32, 64, 3, 1)\n",
    "        self.dropout1 = nn.Dropout(0.25)\n",
    "        self.dropout2 = nn.Dropout(0.5)\n",
    "        self.fc1 = nn.Linear(9216, 128)\n",
    "        self.fc2 = nn.Linear(128, 10)\n",
    "\n",
    "    def forward(self, x):\n",
    "        x = self.conv1(x)\n",
    "        x = F.relu(x)\n",
    "        x = self.conv2(x)\n",
    "        x = F.relu(x)\n",
    "        x = F.max_pool2d(x, 2)\n",
    "        x = self.dropout1(x)\n",
    "        x = torch.flatten(x, 1)\n",
    "        x = self.fc1(x)\n",
    "        x = F.relu(x)\n",
    "        x = self.dropout2(x)\n",
    "        x = self.fc2(x)\n",
    "        output = F.log_softmax(x, dim=1)\n",
    "        return output"
   ]
  },
  {
   "cell_type": "code",
   "execution_count": 7,
   "metadata": {},
   "outputs": [],
   "source": [
    "model = Net()\n",
    "optimizer = optim.Adam(model.parameters(), lr=LR)"
   ]
  },
  {
   "cell_type": "code",
   "execution_count": 8,
   "metadata": {},
   "outputs": [
    {
     "name": "stdout",
     "output_type": "stream",
     "text": [
      "Train Epoch: 1 [0/60000 (0%)]\tLoss: 2.317591\n",
      "Train Epoch: 1 [20000/60000 (33%)]\tLoss: 0.277603\n",
      "Train Epoch: 1 [40000/60000 (67%)]\tLoss: 0.107980\n",
      "Train Epoch: 2 [0/60000 (0%)]\tLoss: 0.119437\n",
      "Train Epoch: 2 [20000/60000 (33%)]\tLoss: 0.081568\n",
      "Train Epoch: 2 [40000/60000 (67%)]\tLoss: 0.073900\n",
      "Train Epoch: 3 [0/60000 (0%)]\tLoss: 0.100955\n",
      "Train Epoch: 3 [20000/60000 (33%)]\tLoss: 0.070523\n",
      "Train Epoch: 3 [40000/60000 (67%)]\tLoss: 0.067095\n",
      "Train Epoch: 4 [0/60000 (0%)]\tLoss: 0.071853\n",
      "Train Epoch: 4 [20000/60000 (33%)]\tLoss: 0.045840\n",
      "Train Epoch: 4 [40000/60000 (67%)]\tLoss: 0.044575\n"
     ]
    }
   ],
   "source": [
    "log_interval = 40\n",
    "model.train()\n",
    "\n",
    "for epoch in range(1, EPOCHS + 1):\n",
    "    for idx, (data, target) in enumerate(trn_loader):\n",
    "        data, target = data, target\n",
    "        output = model(data)\n",
    "        loss = F.nll_loss(output, target)\n",
    "        loss.backward()\n",
    "        optimizer.step()\n",
    "        optimizer.zero_grad()\n",
    "        if idx % log_interval == 0:\n",
    "            print(f\"Train Epoch: {epoch} [{idx * len(data)}/{len(trn_loader.dataset)}\"\n",
    "                  f\" ({100. * idx / len(trn_loader):.0f}%)]\\tLoss: {loss.item():.6f}\")"
   ]
  },
  {
   "cell_type": "code",
   "execution_count": 9,
   "metadata": {},
   "outputs": [
    {
     "name": "stdout",
     "output_type": "stream",
     "text": [
      "\n",
      "Test set: Average loss: 0.0406, Accuracy: 9876/10000 (99%)\n",
      "\n"
     ]
    }
   ],
   "source": [
    "tst_loss = 0\n",
    "correct = 0\n",
    "model.eval()\n",
    "\n",
    "with torch.no_grad():\n",
    "    for data, target in tst_loader:\n",
    "        data, target = data, target\n",
    "        output = model(data)\n",
    "        tst_loss += F.nll_loss(output, target, reduction='sum').item() \n",
    "        pred = output.argmax(dim=1, keepdim=True)\n",
    "        correct += pred.eq(target.view_as(pred)).sum().item()\n",
    "        \n",
    "tst_loss /= len(tst_loader.dataset)\n",
    "\n",
    "print(f\"\\nTest set: Average loss: {tst_loss:.4f},\"\n",
    "      f\" Accuracy: {correct}/{len(tst_loader.dataset)}\"\n",
    "      f\" ({100. * correct / len(tst_loader.dataset):.0f}%)\\n\")"
   ]
  },
  {
   "cell_type": "code",
   "execution_count": 25,
   "metadata": {},
   "outputs": [],
   "source": [
    "torch.save(model.state_dict(), \"model.pt\")"
   ]
  },
  {
   "cell_type": "code",
   "execution_count": 28,
   "metadata": {},
   "outputs": [
    {
     "data": {
      "text/plain": [
       "<All keys matched successfully>"
      ]
     },
     "execution_count": 28,
     "metadata": {},
     "output_type": "execute_result"
    }
   ],
   "source": [
    "model.load_state_dict(torch.load(\"model.pt\"))"
   ]
  },
  {
   "cell_type": "code",
   "execution_count": 29,
   "metadata": {},
   "outputs": [
    {
     "name": "stdout",
     "output_type": "stream",
     "text": [
      "Error from server: error when applying patch:\n",
      "{\"metadata\":{\"annotations\":{\"kubectl.kubernetes.io/last-applied-configuration\":\"{\\\"apiVersion\\\":\\\"serving.kubeflow.org/v1alpha2\\\",\\\"kind\\\":\\\"InferenceService\\\",\\\"metadata\\\":{\\\"annotations\\\":{\\\"sidecar.istio.io/inject\\\":\\\"false\\\"},\\\"labels\\\":{\\\"controller-tools.k8s.io\\\":\\\"1.0\\\"},\\\"name\\\":\\\"pytorch-mnist\\\",\\\"namespace\\\":\\\"kubeflow-user\\\"},\\\"spec\\\":{\\\"default\\\":{\\\"predictor\\\":{\\\"pytorch\\\":{\\\"modelClassName\\\":\\\"Net\\\",\\\"runtimeVersion\\\":\\\"1.7.0\\\",\\\"storageUri\\\":\\\"gs://kfserving-model-examples/torch/\\\"}}}}}\\n\"}},\"spec\":{\"default\":{\"predictor\":{\"pytorch\":{\"runtimeVersion\":\"1.7.0\"}}}}}\n",
      "to:\n",
      "Resource: \"serving.kubeflow.org/v1alpha2, Resource=inferenceservices\", GroupVersionKind: \"serving.kubeflow.org/v1alpha2, Kind=InferenceService\"\n",
      "Name: \"pytorch-mnist\", Namespace: \"kubeflow-user\"\n",
      "for: \"torch.yaml\": admission webhook \"inferenceservice.kfserving-webhook-server.validator\" denied the request: PyTorch RuntimeVersion must be one of v0.3.0, v0.3.0-gpu\n"
     ]
    }
   ],
   "source": [
    "!kubectl apply -f torch.yaml"
   ]
  },
  {
   "cell_type": "code",
   "execution_count": null,
   "metadata": {},
   "outputs": [],
   "source": []
  }
 ],
 "metadata": {
  "kernelspec": {
   "display_name": "Python 3",
   "language": "python",
   "name": "python3"
  },
  "kubeflow_notebook": {
   "autosnapshot": true,
   "docker_image": "dimpo/jupyter-kale-cpu:v0.5.1-serving",
   "experiment": {
    "id": "",
    "name": ""
   },
   "experiment_name": "",
   "katib_metadata": {
    "algorithm": {
     "algorithmName": "grid"
    },
    "maxFailedTrialCount": 3,
    "maxTrialCount": 12,
    "objective": {
     "objectiveMetricName": "",
     "type": "minimize"
    },
    "parallelTrialCount": 3,
    "parameters": []
   },
   "katib_run": false,
   "pipeline_description": "",
   "pipeline_name": "",
   "snapshot_volumes": true,
   "steps_defaults": [
    "label:access-ml-pipeline:true",
    "label:access-rok:true"
   ],
   "volumes": [
    {
     "annotations": [],
     "mount_point": "/home/jovyan",
     "name": "workspace-examples-serving-bgsd4h5em",
     "size": 5,
     "size_type": "Gi",
     "snapshot": false,
     "type": "clone"
    },
    {
     "annotations": [],
     "mount_point": "/home/jovyan/data",
     "name": "data-8lbdjmzdh",
     "size": 10,
     "size_type": "Gi",
     "snapshot": false,
     "type": "clone"
    }
   ]
  },
  "language_info": {
   "codemirror_mode": {
    "name": "ipython",
    "version": 3
   },
   "file_extension": ".py",
   "mimetype": "text/x-python",
   "name": "python",
   "nbconvert_exporter": "python",
   "pygments_lexer": "ipython3",
   "version": "3.6.9"
  }
 },
 "nbformat": 4,
 "nbformat_minor": 4
}
